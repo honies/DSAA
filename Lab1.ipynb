{
 "cells": [
  {
   "cell_type": "markdown",
   "id": "fifteen-sailing",
   "metadata": {
    "id": "fifteen-sailing"
   },
   "source": [
    "# Лабораторная работа №1\n",
    "## Выполнил студент группы ГРУППА ФИО"
   ]
  },
  {
   "cell_type": "markdown",
   "id": "particular-syndicate",
   "metadata": {
    "id": "particular-syndicate"
   },
   "source": [
    "### Оглавление\n",
    "1. [Задание 1](#Задание-№1)\n",
    "2. [Задание 2](#Задание-№2)\n",
    "3. [Задание 3](#Задание-№3)\n",
    "4. [Вывод](#Вывод)"
   ]
  },
  {
   "cell_type": "markdown",
   "id": "arctic-stocks",
   "metadata": {
    "id": "arctic-stocks"
   },
   "source": [
    "### Задание №1\n",
    "<i> Вызвать функцию print() и передать туда строку Hello, World! </i>"
   ]
  },
  {
   "cell_type": "code",
   "execution_count": null,
   "id": "caring-truck",
   "metadata": {
    "id": "caring-truck",
    "scrolled": true
   },
   "outputs": [],
   "source": [
    "print(\"Hello, world!\")"
   ]
  },
  {
   "cell_type": "markdown",
   "id": "maritime-conversation",
   "metadata": {
    "id": "maritime-conversation"
   },
   "source": [
    "### Задание №2\n",
    "Написать генератор случайных матриц(многомерных), который принимает\n",
    "опциональные параметры <b>m</b>, <b>n</b>, <b>min_limit</b>, <b>max_limit</b>, где <b>m</b> и <b>n</b> указывают размер\n",
    "матрицы, а <b>min_lim</b> и <b>max_lim</b> - минимальное и максимальное значение для\n",
    "генерируемого числа."
   ]
  },
  {
   "cell_type": "code",
   "execution_count": 2,
   "id": "built-contact",
   "metadata": {
    "id": "built-contact"
   },
   "outputs": [],
   "source": [
    "import random\n",
    "import numpy as np\n",
    "import time"
   ]
  },
  {
   "cell_type": "code",
   "execution_count": 33,
   "id": "alert-charm",
   "metadata": {
    "id": "alert-charm",
    "outputId": "c95dd9e7-d076-4718-b6fb-25f2e6bc03b9"
   },
   "outputs": [
    {
     "name": "stdout",
     "output_type": "stream",
     "text": [
      "Введите количество строк: 3\n",
      "Введите количество столбцов: 6\n",
      "Введите минимальное значение элемента: 12\n",
      "Введите максимальное значение элемента: 4\n"
     ]
    },
    {
     "ename": "ValueError",
     "evalue": "low >= high",
     "output_type": "error",
     "traceback": [
      "\u001b[1;31m---------------------------------------------------------------------------\u001b[0m",
      "\u001b[1;31mValueError\u001b[0m                                Traceback (most recent call last)",
      "Input \u001b[1;32mIn [33]\u001b[0m, in \u001b[0;36m<cell line: 10>\u001b[1;34m()\u001b[0m\n\u001b[0;32m      7\u001b[0m user_min_limit \u001b[38;5;241m=\u001b[39m \u001b[38;5;28mint\u001b[39m(\u001b[38;5;28minput\u001b[39m(\u001b[38;5;124m\"\u001b[39m\u001b[38;5;124mВведите минимальное значение элемента: \u001b[39m\u001b[38;5;124m\"\u001b[39m))\n\u001b[0;32m      8\u001b[0m user_max_limit \u001b[38;5;241m=\u001b[39m \u001b[38;5;28mint\u001b[39m(\u001b[38;5;28minput\u001b[39m(\u001b[38;5;124m\"\u001b[39m\u001b[38;5;124mВведите максимальное значение элемента: \u001b[39m\u001b[38;5;124m\"\u001b[39m))\n\u001b[1;32m---> 10\u001b[0m matrix \u001b[38;5;241m=\u001b[39m \u001b[43mcreate_matrix\u001b[49m\u001b[43m(\u001b[49m\u001b[43muser_m\u001b[49m\u001b[43m,\u001b[49m\u001b[43m \u001b[49m\u001b[43muser_n\u001b[49m\u001b[43m,\u001b[49m\u001b[43m \u001b[49m\u001b[43muser_min_limit\u001b[49m\u001b[43m,\u001b[49m\u001b[43m \u001b[49m\u001b[43muser_max_limit\u001b[49m\u001b[43m)\u001b[49m\n\u001b[0;32m     11\u001b[0m \u001b[38;5;28mprint\u001b[39m(matrix)\n",
      "Input \u001b[1;32mIn [33]\u001b[0m, in \u001b[0;36mcreate_matrix\u001b[1;34m(m, n, min_limit, max_limit)\u001b[0m\n\u001b[0;32m      1\u001b[0m \u001b[38;5;28;01mdef\u001b[39;00m \u001b[38;5;21mcreate_matrix\u001b[39m(m, n, min_limit, max_limit):\n\u001b[1;32m----> 2\u001b[0m     A \u001b[38;5;241m=\u001b[39m \u001b[43mnp\u001b[49m\u001b[38;5;241;43m.\u001b[39;49m\u001b[43mrandom\u001b[49m\u001b[38;5;241;43m.\u001b[39;49m\u001b[43mrandint\u001b[49m\u001b[43m(\u001b[49m\u001b[43mmin_limit\u001b[49m\u001b[43m,\u001b[49m\u001b[43m \u001b[49m\u001b[43mmax_limit\u001b[49m\u001b[43m,\u001b[49m\u001b[43m \u001b[49m\u001b[43msize\u001b[49m\u001b[38;5;241;43m=\u001b[39;49m\u001b[43m(\u001b[49m\u001b[43mm\u001b[49m\u001b[43m,\u001b[49m\u001b[43m \u001b[49m\u001b[43mn\u001b[49m\u001b[43m)\u001b[49m\u001b[43m)\u001b[49m\n\u001b[0;32m      3\u001b[0m     \u001b[38;5;28;01mreturn\u001b[39;00m A\n",
      "File \u001b[1;32mmtrand.pyx:763\u001b[0m, in \u001b[0;36mnumpy.random.mtrand.RandomState.randint\u001b[1;34m()\u001b[0m\n",
      "File \u001b[1;32m_bounded_integers.pyx:1338\u001b[0m, in \u001b[0;36mnumpy.random._bounded_integers._rand_int32\u001b[1;34m()\u001b[0m\n",
      "\u001b[1;31mValueError\u001b[0m: low >= high"
     ]
    }
   ],
   "source": [
    "def create_matrix(m, n, min_limit, max_limit):\n",
    "    A = np.random.randint(min_limit, max_limit, size=(m, n))\n",
    "    return A\n",
    "\n",
    "user_m = int(input(\"Введите количество строк: \"))\n",
    "user_n = int(input(\"Введите количество столбцов: \"))\n",
    "user_min_limit = int(input(\"Введите минимальное значение элемента: \"))\n",
    "user_max_limit = int(input(\"Введите максимальное значение элемента: \"))\n",
    "\n",
    "matrix = create_matrix(user_m, user_n, user_min_limit, user_max_limit)\n",
    "print(matrix)"
   ]
  },
  {
   "cell_type": "markdown",
   "id": "5f9ba9ec",
   "metadata": {},
   "source": [
    "Генератор случайных матриц с помощью циклов"
   ]
  },
  {
   "cell_type": "code",
   "execution_count": 28,
   "id": "fe14cec0",
   "metadata": {},
   "outputs": [
    {
     "name": "stdout",
     "output_type": "stream",
     "text": [
      "Введите количество строк: 3\n",
      "Введите количество столбцов: 5\n",
      "Введите минимальное значение элемента: 12\n",
      "Введите максимальное значение элемента: 34\n"
     ]
    },
    {
     "data": {
      "text/plain": [
       "array([[30, 18, 21, 13, 26, 17],\n",
       "       [35, 21, 38, 13, 12, 21],\n",
       "       [33, 32, 38, 21, 25, 44]])"
      ]
     },
     "execution_count": 28,
     "metadata": {},
     "output_type": "execute_result"
    }
   ],
   "source": [
    "def create_matrix(m, n, min_limit, max_limit):\n",
    "    A = np.random.randint(min_limit, max_limit, size=(m, n))\n",
    "    return A\n",
    "\n",
    "user_m = int(input(\"Введите количество строк: \"))\n",
    "user_n = int(input(\"Введите количество столбцов: \"))\n",
    "user_min_limit = int(input(\"Введите минимальное значение элемента: \"))\n",
    "user_max_limit = int(input(\"Введите максимальное значение элемента: \"))\n",
    "\n",
    "matrix_2 = create_matrix(user_m, user_n, user_min_limit, user_max_limit)\n",
    "matrix"
   ]
  },
  {
   "cell_type": "markdown",
   "id": "catholic-roots",
   "metadata": {
    "id": "catholic-roots"
   },
   "source": [
    "### Задание №3\n",
    "Реализовать методы сортировки строк числовой матрицы в соответствии с\n",
    "заданием. Оценить время работы каждого алгоритма сортировки и сравнить его со\n",
    "временем стандартной функции сортировки. Испытания проводить на сгенерированных\n",
    "матрицах."
   ]
  },
  {
   "cell_type": "code",
   "execution_count": 29,
   "id": "opposed-creature",
   "metadata": {
    "id": "opposed-creature"
   },
   "outputs": [],
   "source": [
    "import copy\n",
    "import timeit"
   ]
  },
  {
   "cell_type": "code",
   "execution_count": 23,
   "id": "cleared-anniversary",
   "metadata": {
    "id": "cleared-anniversary",
    "outputId": "b7c76c60-4acb-4c14-9bfb-d4f8d71093a1"
   },
   "outputs": [
    {
     "name": "stdout",
     "output_type": "stream",
     "text": [
      "[[1 3 6 7]\n",
      " [1 3 6 7]\n",
      " [1 3 6 7]] \n",
      "\n",
      "[[1 3 6 7]\n",
      " [1 3 6 7]\n",
      " [1 3 6 7]]\n",
      "--- 0.02300000005561742 ms ---\n"
     ]
    }
   ],
   "source": [
    "matrix_copy_1 = copy.deepcopy(matrix)\n",
    "print(matrix_copy,'\\n')\n",
    "\n",
    "def selection_sort_matrix(matrix):\n",
    "    for i in range(len(matrix)):\n",
    "        min_index = i\n",
    "        for j in range(i+1, len(matrix)):\n",
    "            if matrix[j][0] < matrix[min_index][0]:\n",
    "                min_index = j\n",
    "        matrix[i], matrix[min_index] = matrix[min_index], matrix[i]\n",
    "    return matrix\n",
    "\n",
    "\n",
    "print(selection_sort_matrix(matrix))\n",
    "\n",
    "start = timeit.default_timer()\n",
    "end = timeit.default_timer()\n",
    "\n",
    "print(\"--- {0} ms ---\".format((end - start) * 1000))"
   ]
  },
  {
   "cell_type": "code",
   "execution_count": 32,
   "id": "roman-silly",
   "metadata": {
    "id": "roman-silly",
    "outputId": "84666b71-fb68-4c07-d27d-e716af29fcbb",
    "scrolled": true
   },
   "outputs": [
    {
     "name": "stdout",
     "output_type": "stream",
     "text": [
      "[[12 18 23 24 25]\n",
      " [19 20 24 25 33]\n",
      " [13 18 20 25 30]] \n",
      "\n",
      "[[12 18 23 24 25]\n",
      " [19 20 24 25 33]\n",
      " [13 18 20 25 30]]\n",
      "--- 0.023399999918183312 ms ---\n"
     ]
    }
   ],
   "source": [
    "matrix_copy_2 = copy.deepcopy(matrix_2)\n",
    "\n",
    "def insertion_sort_matrix(matrix):\n",
    "    for i in range(len(matrix)):\n",
    "        for j in range(1, len(matrix[i])):\n",
    "            key = matrix[i][j]\n",
    "            k = j - 1\n",
    "            while k >= 0 and matrix[i][k] > key:\n",
    "                matrix[i][k + 1] = matrix[i][k]\n",
    "                k -= 1\n",
    "            matrix[i][k + 1] = key\n",
    "    return matrix\n",
    "\n",
    "print(insertion_sort_matrix(matrix_2))\n",
    "\n",
    "start = timeit.default_timer()\n",
    "end = timeit.default_timer()\n",
    "\n",
    "print(\"--- {0} ms ---\".format((end - start) * 1000))"
   ]
  },
  {
   "cell_type": "code",
   "execution_count": 31,
   "id": "vital-implementation",
   "metadata": {
    "id": "vital-implementation",
    "outputId": "7b648bf5-37a5-4d47-926d-b799f7a23be2"
   },
   "outputs": [
    {
     "name": "stdout",
     "output_type": "stream",
     "text": [
      "[[1 3 6 7]\n",
      " [1 3 6 7]\n",
      " [1 3 6 7]] \n",
      "\n",
      "[[12 18 23 24 25]\n",
      " [19 20 24 25 33]\n",
      " [13 18 20 25 30]]\n",
      "--- 0.024700000267330324 ms ---\n"
     ]
    }
   ],
   "source": [
    "matrix_copy_3 = copy.deepcopy(matrix_2)\n",
    "\n",
    "\n",
    "def bubble_sort_matrix(matrix):\n",
    "    for i in range(len(matrix)):\n",
    "        for j in range(len(matrix[i])-1):\n",
    "            for k in range(len(matrix[i])-j-1):\n",
    "                if matrix[i][k] > matrix[i][k+1]:\n",
    "                    matrix[i][k], matrix[i][k+1] = matrix[i][k+1], matrix[i][k]\n",
    "    return matrix\n",
    "\n",
    "print(bubble_sort_matrix(matrix_2))\n",
    "\n",
    "start = timeit.default_timer()\n",
    "end = timeit.default_timer()\n",
    "\n",
    "print(\"--- {0} ms ---\".format((end - start) * 1000))"
   ]
  },
  {
   "cell_type": "code",
   "execution_count": null,
   "id": "veterinary-glory",
   "metadata": {
    "id": "veterinary-glory",
    "outputId": "9cc2a9ff-ec7a-43de-e4a8-47945d030986"
   },
   "outputs": [],
   "source": [
    "# Сортировка Шелла.\n",
    "start_time = time.time()\n",
    "#TODO\n",
    "print(\"--- {0} ms ---\".format(round((time.time() - start_time)*1000)))"
   ]
  },
  {
   "cell_type": "code",
   "execution_count": null,
   "id": "correct-chaos",
   "metadata": {
    "id": "correct-chaos",
    "outputId": "f4d9aef1-8a2f-46a0-def0-4c9e049f5c77"
   },
   "outputs": [],
   "source": [
    "# Быстрая сортировка.\n",
    "start_time = time.time()\n",
    "#TODO\n",
    "print(\"--- {0} ms ---\".format(round((time.time() - start_time)*1000)))\n",
    "    "
   ]
  },
  {
   "cell_type": "code",
   "execution_count": null,
   "id": "french-czech",
   "metadata": {
    "colab": {
     "base_uri": "https://localhost:8080/",
     "height": 217
    },
    "executionInfo": {
     "elapsed": 433,
     "status": "error",
     "timestamp": 1645638345253,
     "user": {
      "displayName": "Sergey Simonov",
      "photoUrl": "https://lh3.googleusercontent.com/a-/AOh14GhQdeIfzzsg8bfb7DLHaLzEFH8Ebg2FyuaL9YoQyA=s64",
      "userId": "14094206399671235086"
     },
     "user_tz": -180
    },
    "id": "french-czech",
    "outputId": "7e38b779-8bbf-4955-c3ad-2a6be0ee386a"
   },
   "outputs": [],
   "source": [
    "# Турнирная сортировка.\n",
    "start_time = time.time()\n",
    "#TODO\n",
    "print(\"--- {0} ms ---\".format(round((time.time() - start_time)*1000)))"
   ]
  },
  {
   "cell_type": "markdown",
   "id": "rental-jerusalem",
   "metadata": {
    "id": "rental-jerusalem"
   },
   "source": [
    "### Вывод\n"
   ]
  },
  {
   "cell_type": "markdown",
   "id": "9d108a0a",
   "metadata": {
    "id": "9d108a0a"
   },
   "source": []
  }
 ],
 "metadata": {
  "colab": {
   "provenance": []
  },
  "kernelspec": {
   "display_name": "Python 3 (ipykernel)",
   "language": "python",
   "name": "python3"
  },
  "language_info": {
   "codemirror_mode": {
    "name": "ipython",
    "version": 3
   },
   "file_extension": ".py",
   "mimetype": "text/x-python",
   "name": "python",
   "nbconvert_exporter": "python",
   "pygments_lexer": "ipython3",
   "version": "3.10.4"
  }
 },
 "nbformat": 4,
 "nbformat_minor": 5
}
